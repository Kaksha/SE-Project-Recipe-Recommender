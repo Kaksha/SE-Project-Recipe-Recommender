{
 "cells": [
  {
   "cell_type": "code",
   "execution_count": 1,
   "id": "35e34d02-f081-4b58-989a-8ea6d2254567",
   "metadata": {},
   "outputs": [],
   "source": [
    "import numpy as np\n",
    "import pandas as pd\n",
    "from sklearn.feature_extraction.text import TfidfVectorizer\n",
    "from sklearn.metrics.pairwise import linear_kernel"
   ]
  },
  {
   "cell_type": "code",
   "execution_count": 3,
   "id": "1f93ef44-a60b-4344-9bbc-8faa12372085",
   "metadata": {},
   "outputs": [
    {
     "data": {
      "text/html": [
       "<div>\n",
       "<style scoped>\n",
       "    .dataframe tbody tr th:only-of-type {\n",
       "        vertical-align: middle;\n",
       "    }\n",
       "\n",
       "    .dataframe tbody tr th {\n",
       "        vertical-align: top;\n",
       "    }\n",
       "\n",
       "    .dataframe thead th {\n",
       "        text-align: right;\n",
       "    }\n",
       "</style>\n",
       "<table border=\"1\" class=\"dataframe\">\n",
       "  <thead>\n",
       "    <tr style=\"text-align: right;\">\n",
       "      <th></th>\n",
       "      <th>user_id</th>\n",
       "      <th>recipe_id</th>\n",
       "      <th>date</th>\n",
       "      <th>rating</th>\n",
       "      <th>review</th>\n",
       "    </tr>\n",
       "  </thead>\n",
       "  <tbody>\n",
       "    <tr>\n",
       "      <th>0</th>\n",
       "      <td>38094</td>\n",
       "      <td>40893</td>\n",
       "      <td>2003-02-17</td>\n",
       "      <td>4</td>\n",
       "      <td>Great with a salad. Cooked on top of stove for...</td>\n",
       "    </tr>\n",
       "    <tr>\n",
       "      <th>1</th>\n",
       "      <td>1293707</td>\n",
       "      <td>40893</td>\n",
       "      <td>2011-12-21</td>\n",
       "      <td>5</td>\n",
       "      <td>So simple, so delicious! Great for chilly fall...</td>\n",
       "    </tr>\n",
       "  </tbody>\n",
       "</table>\n",
       "</div>"
      ],
      "text/plain": [
       "   user_id  recipe_id        date  rating  \\\n",
       "0    38094      40893  2003-02-17       4   \n",
       "1  1293707      40893  2011-12-21       5   \n",
       "\n",
       "                                              review  \n",
       "0  Great with a salad. Cooked on top of stove for...  \n",
       "1  So simple, so delicious! Great for chilly fall...  "
      ]
     },
     "execution_count": 3,
     "metadata": {},
     "output_type": "execute_result"
    }
   ],
   "source": [
    "a = pd.read_csv(\"../data/raw/RAW_interactions.csv\")\n",
    "a.head(2)"
   ]
  },
  {
   "cell_type": "code",
   "execution_count": 4,
   "id": "cf1f8375-d3ee-4d8b-9b62-b0d34a102dbd",
   "metadata": {},
   "outputs": [
    {
     "data": {
      "text/html": [
       "<div>\n",
       "<style scoped>\n",
       "    .dataframe tbody tr th:only-of-type {\n",
       "        vertical-align: middle;\n",
       "    }\n",
       "\n",
       "    .dataframe tbody tr th {\n",
       "        vertical-align: top;\n",
       "    }\n",
       "\n",
       "    .dataframe thead th {\n",
       "        text-align: right;\n",
       "    }\n",
       "</style>\n",
       "<table border=\"1\" class=\"dataframe\">\n",
       "  <thead>\n",
       "    <tr style=\"text-align: right;\">\n",
       "      <th></th>\n",
       "      <th>name</th>\n",
       "      <th>id</th>\n",
       "      <th>minutes</th>\n",
       "      <th>contributor_id</th>\n",
       "      <th>submitted</th>\n",
       "      <th>tags</th>\n",
       "      <th>nutrition</th>\n",
       "      <th>n_steps</th>\n",
       "      <th>steps</th>\n",
       "      <th>description</th>\n",
       "      <th>ingredients</th>\n",
       "      <th>n_ingredients</th>\n",
       "    </tr>\n",
       "  </thead>\n",
       "  <tbody>\n",
       "    <tr>\n",
       "      <th>0</th>\n",
       "      <td>arriba   baked winter squash mexican style</td>\n",
       "      <td>137739</td>\n",
       "      <td>55</td>\n",
       "      <td>47892</td>\n",
       "      <td>2005-09-16</td>\n",
       "      <td>['60-minutes-or-less', 'time-to-make', 'course...</td>\n",
       "      <td>[51.5, 0.0, 13.0, 0.0, 2.0, 0.0, 4.0]</td>\n",
       "      <td>11</td>\n",
       "      <td>['make a choice and proceed with recipe', 'dep...</td>\n",
       "      <td>autumn is my favorite time of year to cook! th...</td>\n",
       "      <td>['winter squash', 'mexican seasoning', 'mixed ...</td>\n",
       "      <td>7</td>\n",
       "    </tr>\n",
       "    <tr>\n",
       "      <th>1</th>\n",
       "      <td>a bit different  breakfast pizza</td>\n",
       "      <td>31490</td>\n",
       "      <td>30</td>\n",
       "      <td>26278</td>\n",
       "      <td>2002-06-17</td>\n",
       "      <td>['30-minutes-or-less', 'time-to-make', 'course...</td>\n",
       "      <td>[173.4, 18.0, 0.0, 17.0, 22.0, 35.0, 1.0]</td>\n",
       "      <td>9</td>\n",
       "      <td>['preheat oven to 425 degrees f', 'press dough...</td>\n",
       "      <td>this recipe calls for the crust to be prebaked...</td>\n",
       "      <td>['prepared pizza crust', 'sausage patty', 'egg...</td>\n",
       "      <td>6</td>\n",
       "    </tr>\n",
       "    <tr>\n",
       "      <th>2</th>\n",
       "      <td>all in the kitchen  chili</td>\n",
       "      <td>112140</td>\n",
       "      <td>130</td>\n",
       "      <td>196586</td>\n",
       "      <td>2005-02-25</td>\n",
       "      <td>['time-to-make', 'course', 'preparation', 'mai...</td>\n",
       "      <td>[269.8, 22.0, 32.0, 48.0, 39.0, 27.0, 5.0]</td>\n",
       "      <td>6</td>\n",
       "      <td>['brown ground beef in large pot', 'add choppe...</td>\n",
       "      <td>this modified version of 'mom's' chili was a h...</td>\n",
       "      <td>['ground beef', 'yellow onions', 'diced tomato...</td>\n",
       "      <td>13</td>\n",
       "    </tr>\n",
       "  </tbody>\n",
       "</table>\n",
       "</div>"
      ],
      "text/plain": [
       "                                         name      id  minutes  \\\n",
       "0  arriba   baked winter squash mexican style  137739       55   \n",
       "1            a bit different  breakfast pizza   31490       30   \n",
       "2                   all in the kitchen  chili  112140      130   \n",
       "\n",
       "   contributor_id   submitted  \\\n",
       "0           47892  2005-09-16   \n",
       "1           26278  2002-06-17   \n",
       "2          196586  2005-02-25   \n",
       "\n",
       "                                                tags  \\\n",
       "0  ['60-minutes-or-less', 'time-to-make', 'course...   \n",
       "1  ['30-minutes-or-less', 'time-to-make', 'course...   \n",
       "2  ['time-to-make', 'course', 'preparation', 'mai...   \n",
       "\n",
       "                                    nutrition  n_steps  \\\n",
       "0       [51.5, 0.0, 13.0, 0.0, 2.0, 0.0, 4.0]       11   \n",
       "1   [173.4, 18.0, 0.0, 17.0, 22.0, 35.0, 1.0]        9   \n",
       "2  [269.8, 22.0, 32.0, 48.0, 39.0, 27.0, 5.0]        6   \n",
       "\n",
       "                                               steps  \\\n",
       "0  ['make a choice and proceed with recipe', 'dep...   \n",
       "1  ['preheat oven to 425 degrees f', 'press dough...   \n",
       "2  ['brown ground beef in large pot', 'add choppe...   \n",
       "\n",
       "                                         description  \\\n",
       "0  autumn is my favorite time of year to cook! th...   \n",
       "1  this recipe calls for the crust to be prebaked...   \n",
       "2  this modified version of 'mom's' chili was a h...   \n",
       "\n",
       "                                         ingredients  n_ingredients  \n",
       "0  ['winter squash', 'mexican seasoning', 'mixed ...              7  \n",
       "1  ['prepared pizza crust', 'sausage patty', 'egg...              6  \n",
       "2  ['ground beef', 'yellow onions', 'diced tomato...             13  "
      ]
     },
     "execution_count": 4,
     "metadata": {},
     "output_type": "execute_result"
    }
   ],
   "source": [
    "b = pd.read_csv(\"../data/raw/RAW_recipes.csv\")\n",
    "b.head(3)"
   ]
  },
  {
   "cell_type": "code",
   "execution_count": 5,
   "id": "1938ce00-dfef-44a5-8494-fe5160bf1b40",
   "metadata": {},
   "outputs": [
    {
     "data": {
      "text/plain": [
       "((1132367, 5), (231637, 12))"
      ]
     },
     "execution_count": 5,
     "metadata": {},
     "output_type": "execute_result"
    }
   ],
   "source": [
    "a.shape , b.shape"
   ]
  },
  {
   "cell_type": "code",
   "execution_count": 6,
   "id": "8021b03c-8cd0-4ecb-bfbf-d48516ac691b",
   "metadata": {},
   "outputs": [],
   "source": [
    "a = a.sample(50000)\n",
    "b = b.sample(50000)"
   ]
  },
  {
   "cell_type": "code",
   "execution_count": 7,
   "id": "5d2e4e53-d8a8-4c18-b54e-94c0a920f373",
   "metadata": {},
   "outputs": [],
   "source": [
    "data = pd.merge(a,b, right_on='id',left_on='recipe_id')"
   ]
  },
  {
   "cell_type": "code",
   "execution_count": 8,
   "id": "e75f405b-3f27-428c-96bc-07d89eee12ba",
   "metadata": {},
   "outputs": [
    {
     "data": {
      "text/html": [
       "<div>\n",
       "<style scoped>\n",
       "    .dataframe tbody tr th:only-of-type {\n",
       "        vertical-align: middle;\n",
       "    }\n",
       "\n",
       "    .dataframe tbody tr th {\n",
       "        vertical-align: top;\n",
       "    }\n",
       "\n",
       "    .dataframe thead th {\n",
       "        text-align: right;\n",
       "    }\n",
       "</style>\n",
       "<table border=\"1\" class=\"dataframe\">\n",
       "  <thead>\n",
       "    <tr style=\"text-align: right;\">\n",
       "      <th></th>\n",
       "      <th>user_id</th>\n",
       "      <th>recipe_id</th>\n",
       "      <th>date</th>\n",
       "      <th>rating</th>\n",
       "      <th>review</th>\n",
       "      <th>name</th>\n",
       "      <th>id</th>\n",
       "      <th>minutes</th>\n",
       "      <th>contributor_id</th>\n",
       "      <th>submitted</th>\n",
       "      <th>tags</th>\n",
       "      <th>nutrition</th>\n",
       "      <th>n_steps</th>\n",
       "      <th>steps</th>\n",
       "      <th>description</th>\n",
       "      <th>ingredients</th>\n",
       "      <th>n_ingredients</th>\n",
       "    </tr>\n",
       "  </thead>\n",
       "  <tbody>\n",
       "    <tr>\n",
       "      <th>0</th>\n",
       "      <td>2001560643</td>\n",
       "      <td>2886</td>\n",
       "      <td>2017-05-29</td>\n",
       "      <td>5</td>\n",
       "      <td>Awesome recipe!! Made it twice already..both t...</td>\n",
       "      <td>best banana bread</td>\n",
       "      <td>2886</td>\n",
       "      <td>65</td>\n",
       "      <td>1762</td>\n",
       "      <td>1999-09-26</td>\n",
       "      <td>['time-to-make', 'course', 'main-ingredient', ...</td>\n",
       "      <td>[272.8, 16.0, 97.0, 14.0, 7.0, 31.0, 14.0]</td>\n",
       "      <td>13</td>\n",
       "      <td>['remove odd pots and pans from oven', 'prehea...</td>\n",
       "      <td>you'll never need another banana bread recipe ...</td>\n",
       "      <td>['butter', 'granulated sugar', 'eggs', 'banana...</td>\n",
       "      <td>8</td>\n",
       "    </tr>\n",
       "    <tr>\n",
       "      <th>1</th>\n",
       "      <td>2001957150</td>\n",
       "      <td>2886</td>\n",
       "      <td>2018-01-27</td>\n",
       "      <td>5</td>\n",
       "      <td>moist and delicious! I added 1/2 tsp cinnamon ...</td>\n",
       "      <td>best banana bread</td>\n",
       "      <td>2886</td>\n",
       "      <td>65</td>\n",
       "      <td>1762</td>\n",
       "      <td>1999-09-26</td>\n",
       "      <td>['time-to-make', 'course', 'main-ingredient', ...</td>\n",
       "      <td>[272.8, 16.0, 97.0, 14.0, 7.0, 31.0, 14.0]</td>\n",
       "      <td>13</td>\n",
       "      <td>['remove odd pots and pans from oven', 'prehea...</td>\n",
       "      <td>you'll never need another banana bread recipe ...</td>\n",
       "      <td>['butter', 'granulated sugar', 'eggs', 'banana...</td>\n",
       "      <td>8</td>\n",
       "    </tr>\n",
       "  </tbody>\n",
       "</table>\n",
       "</div>"
      ],
      "text/plain": [
       "      user_id  recipe_id        date  rating  \\\n",
       "0  2001560643       2886  2017-05-29       5   \n",
       "1  2001957150       2886  2018-01-27       5   \n",
       "\n",
       "                                              review               name    id  \\\n",
       "0  Awesome recipe!! Made it twice already..both t...  best banana bread  2886   \n",
       "1  moist and delicious! I added 1/2 tsp cinnamon ...  best banana bread  2886   \n",
       "\n",
       "   minutes  contributor_id   submitted  \\\n",
       "0       65            1762  1999-09-26   \n",
       "1       65            1762  1999-09-26   \n",
       "\n",
       "                                                tags  \\\n",
       "0  ['time-to-make', 'course', 'main-ingredient', ...   \n",
       "1  ['time-to-make', 'course', 'main-ingredient', ...   \n",
       "\n",
       "                                    nutrition  n_steps  \\\n",
       "0  [272.8, 16.0, 97.0, 14.0, 7.0, 31.0, 14.0]       13   \n",
       "1  [272.8, 16.0, 97.0, 14.0, 7.0, 31.0, 14.0]       13   \n",
       "\n",
       "                                               steps  \\\n",
       "0  ['remove odd pots and pans from oven', 'prehea...   \n",
       "1  ['remove odd pots and pans from oven', 'prehea...   \n",
       "\n",
       "                                         description  \\\n",
       "0  you'll never need another banana bread recipe ...   \n",
       "1  you'll never need another banana bread recipe ...   \n",
       "\n",
       "                                         ingredients  n_ingredients  \n",
       "0  ['butter', 'granulated sugar', 'eggs', 'banana...              8  \n",
       "1  ['butter', 'granulated sugar', 'eggs', 'banana...              8  "
      ]
     },
     "execution_count": 8,
     "metadata": {},
     "output_type": "execute_result"
    }
   ],
   "source": [
    "data.head(2)"
   ]
  },
  {
   "cell_type": "code",
   "execution_count": 9,
   "id": "cca8454e-940d-413b-92c2-36c741bea776",
   "metadata": {},
   "outputs": [],
   "source": [
    "data.drop([\"user_id\",\"submitted\",\"contributor_id\",\"id\"],axis=1,inplace=True)"
   ]
  },
  {
   "cell_type": "code",
   "execution_count": 26,
   "id": "04235884-9550-4c2f-b668-44bb165fb0a3",
   "metadata": {},
   "outputs": [],
   "source": [
    "rec = data[[\"recipe_id\",\"rating\",\"name\",\"tags\",\"description\",\"ingredients\",]]"
   ]
  },
  {
   "cell_type": "code",
   "execution_count": 27,
   "id": "bd94572c-6a1c-4021-a64a-7bbeca58e476",
   "metadata": {},
   "outputs": [],
   "source": [
    "rate = rec.groupby(\"name\")[\"rating\"].sum().reset_index()"
   ]
  },
  {
   "cell_type": "code",
   "execution_count": 28,
   "id": "4e5f89c1-ddc9-4981-8875-eb9ea7516094",
   "metadata": {},
   "outputs": [
    {
     "name": "stderr",
     "output_type": "stream",
     "text": [
      "<ipython-input-28-cf0ddfdefa66>:2: SettingWithCopyWarning: \n",
      "A value is trying to be set on a copy of a slice from a DataFrame\n",
      "\n",
      "See the caveats in the documentation: https://pandas.pydata.org/pandas-docs/stable/user_guide/indexing.html#returning-a-view-versus-a-copy\n",
      "  rec.drop_duplicates(inplace=True)\n"
     ]
    }
   ],
   "source": [
    "rec.duplicated().sum()\n",
    "rec.drop_duplicates(inplace=True)"
   ]
  },
  {
   "cell_type": "code",
   "execution_count": 29,
   "id": "eb4b5537-b952-4853-ac89-4fe15e46ff45",
   "metadata": {},
   "outputs": [],
   "source": [
    "rec.reset_index(drop=True,inplace=True)"
   ]
  },
  {
   "cell_type": "code",
   "execution_count": 30,
   "id": "b302f2ac-ad5a-42d4-b091-6ae792f123fc",
   "metadata": {},
   "outputs": [
    {
     "data": {
      "text/html": [
       "<div>\n",
       "<style scoped>\n",
       "    .dataframe tbody tr th:only-of-type {\n",
       "        vertical-align: middle;\n",
       "    }\n",
       "\n",
       "    .dataframe tbody tr th {\n",
       "        vertical-align: top;\n",
       "    }\n",
       "\n",
       "    .dataframe thead th {\n",
       "        text-align: right;\n",
       "    }\n",
       "</style>\n",
       "<table border=\"1\" class=\"dataframe\">\n",
       "  <thead>\n",
       "    <tr style=\"text-align: right;\">\n",
       "      <th></th>\n",
       "      <th>recipe_id</th>\n",
       "      <th>rating</th>\n",
       "      <th>name</th>\n",
       "      <th>tags</th>\n",
       "      <th>description</th>\n",
       "      <th>ingredients</th>\n",
       "    </tr>\n",
       "  </thead>\n",
       "  <tbody>\n",
       "    <tr>\n",
       "      <th>0</th>\n",
       "      <td>2886</td>\n",
       "      <td>5</td>\n",
       "      <td>best banana bread</td>\n",
       "      <td>['time-to-make', 'course', 'main-ingredient', ...</td>\n",
       "      <td>you'll never need another banana bread recipe ...</td>\n",
       "      <td>['butter', 'granulated sugar', 'eggs', 'banana...</td>\n",
       "    </tr>\n",
       "    <tr>\n",
       "      <th>1</th>\n",
       "      <td>2886</td>\n",
       "      <td>4</td>\n",
       "      <td>best banana bread</td>\n",
       "      <td>['time-to-make', 'course', 'main-ingredient', ...</td>\n",
       "      <td>you'll never need another banana bread recipe ...</td>\n",
       "      <td>['butter', 'granulated sugar', 'eggs', 'banana...</td>\n",
       "    </tr>\n",
       "  </tbody>\n",
       "</table>\n",
       "</div>"
      ],
      "text/plain": [
       "   recipe_id  rating               name  \\\n",
       "0       2886       5  best banana bread   \n",
       "1       2886       4  best banana bread   \n",
       "\n",
       "                                                tags  \\\n",
       "0  ['time-to-make', 'course', 'main-ingredient', ...   \n",
       "1  ['time-to-make', 'course', 'main-ingredient', ...   \n",
       "\n",
       "                                         description  \\\n",
       "0  you'll never need another banana bread recipe ...   \n",
       "1  you'll never need another banana bread recipe ...   \n",
       "\n",
       "                                         ingredients  \n",
       "0  ['butter', 'granulated sugar', 'eggs', 'banana...  \n",
       "1  ['butter', 'granulated sugar', 'eggs', 'banana...  "
      ]
     },
     "execution_count": 30,
     "metadata": {},
     "output_type": "execute_result"
    }
   ],
   "source": [
    "rec.head(2)"
   ]
  },
  {
   "cell_type": "code",
   "execution_count": 31,
   "id": "89d50def-11a5-486b-80a1-f1aa7d3dcb13",
   "metadata": {},
   "outputs": [],
   "source": [
    "import string\n",
    "\n",
    "def convert_to_list(x):\n",
    "    return str(x).strip('[]').replace('\"', '').replace(\"'\", '').replace(' ', '').split(',')"
   ]
  },
  {
   "cell_type": "code",
   "execution_count": 32,
   "id": "24b8b89e-bc6c-4c7b-bcea-2550b09ce81f",
   "metadata": {},
   "outputs": [
    {
     "name": "stderr",
     "output_type": "stream",
     "text": [
      "<ipython-input-32-334920e2948a>:1: SettingWithCopyWarning: \n",
      "A value is trying to be set on a copy of a slice from a DataFrame.\n",
      "Try using .loc[row_indexer,col_indexer] = value instead\n",
      "\n",
      "See the caveats in the documentation: https://pandas.pydata.org/pandas-docs/stable/user_guide/indexing.html#returning-a-view-versus-a-copy\n",
      "  rec[\"tags\"] = rec[\"tags\"].apply(lambda x: convert_to_list(x))\n",
      "<ipython-input-32-334920e2948a>:2: SettingWithCopyWarning: \n",
      "A value is trying to be set on a copy of a slice from a DataFrame.\n",
      "Try using .loc[row_indexer,col_indexer] = value instead\n",
      "\n",
      "See the caveats in the documentation: https://pandas.pydata.org/pandas-docs/stable/user_guide/indexing.html#returning-a-view-versus-a-copy\n",
      "  rec[\"ingredients\"] = rec[\"ingredients\"].apply(lambda x: convert_to_list(x))\n",
      "<ipython-input-32-334920e2948a>:3: SettingWithCopyWarning: \n",
      "A value is trying to be set on a copy of a slice from a DataFrame.\n",
      "Try using .loc[row_indexer,col_indexer] = value instead\n",
      "\n",
      "See the caveats in the documentation: https://pandas.pydata.org/pandas-docs/stable/user_guide/indexing.html#returning-a-view-versus-a-copy\n",
      "  rec[\"description\"] = rec[\"description\"].apply(lambda x: convert_to_list(x))\n"
     ]
    }
   ],
   "source": [
    "rec[\"tags\"] = rec[\"tags\"].apply(lambda x: convert_to_list(x))\n",
    "rec[\"ingredients\"] = rec[\"ingredients\"].apply(lambda x: convert_to_list(x))\n",
    "rec[\"description\"] = rec[\"description\"].apply(lambda x: convert_to_list(x))"
   ]
  },
  {
   "cell_type": "code",
   "execution_count": 33,
   "id": "aacd2f10-0e16-466f-956d-6774498c080a",
   "metadata": {},
   "outputs": [
    {
     "name": "stderr",
     "output_type": "stream",
     "text": [
      "<ipython-input-33-b2ddd3082bac>:1: SettingWithCopyWarning: \n",
      "A value is trying to be set on a copy of a slice from a DataFrame.\n",
      "Try using .loc[row_indexer,col_indexer] = value instead\n",
      "\n",
      "See the caveats in the documentation: https://pandas.pydata.org/pandas-docs/stable/user_guide/indexing.html#returning-a-view-versus-a-copy\n",
      "  rec[\"rec\"] = rec[\"tags\"] + rec[\"description\"] + rec[\"ingredients\"]\n"
     ]
    }
   ],
   "source": [
    "rec[\"rec\"] = rec[\"tags\"] + rec[\"description\"] + rec[\"ingredients\"]\n",
    "rec = rec[~rec.duplicated(\"name\")]\n",
    "rec.reset_index(drop=True,inplace=True)"
   ]
  },
  {
   "cell_type": "code",
   "execution_count": 34,
   "id": "3a94f010-139a-42ad-9733-5664c6b575ab",
   "metadata": {},
   "outputs": [
    {
     "data": {
      "text/html": [
       "<div>\n",
       "<style scoped>\n",
       "    .dataframe tbody tr th:only-of-type {\n",
       "        vertical-align: middle;\n",
       "    }\n",
       "\n",
       "    .dataframe tbody tr th {\n",
       "        vertical-align: top;\n",
       "    }\n",
       "\n",
       "    .dataframe thead th {\n",
       "        text-align: right;\n",
       "    }\n",
       "</style>\n",
       "<table border=\"1\" class=\"dataframe\">\n",
       "  <thead>\n",
       "    <tr style=\"text-align: right;\">\n",
       "      <th></th>\n",
       "      <th>recipe_id</th>\n",
       "      <th>rating</th>\n",
       "      <th>name</th>\n",
       "      <th>tags</th>\n",
       "      <th>description</th>\n",
       "      <th>ingredients</th>\n",
       "      <th>rec</th>\n",
       "    </tr>\n",
       "  </thead>\n",
       "  <tbody>\n",
       "    <tr>\n",
       "      <th>0</th>\n",
       "      <td>2886</td>\n",
       "      <td>5</td>\n",
       "      <td>best banana bread</td>\n",
       "      <td>[time-to-make, course, main-ingredient, cuisin...</td>\n",
       "      <td>[youllneverneedanotherbananabreadrecipeeveraga...</td>\n",
       "      <td>[butter, granulatedsugar, eggs, bananas, all-p...</td>\n",
       "      <td>[time-to-make, course, main-ingredient, cuisin...</td>\n",
       "    </tr>\n",
       "    <tr>\n",
       "      <th>1</th>\n",
       "      <td>430938</td>\n",
       "      <td>5</td>\n",
       "      <td>famous fat free creamy dill dip</td>\n",
       "      <td>[weeknight, 15-minutes-or-less, time-to-make, ...</td>\n",
       "      <td>[imadeupthisrecipeafterhavingdilldipatafamilyg...</td>\n",
       "      <td>[fatfreecreamcheese, nonfatsourcream, dillweed...</td>\n",
       "      <td>[weeknight, 15-minutes-or-less, time-to-make, ...</td>\n",
       "    </tr>\n",
       "  </tbody>\n",
       "</table>\n",
       "</div>"
      ],
      "text/plain": [
       "   recipe_id  rating                             name  \\\n",
       "0       2886       5                best banana bread   \n",
       "1     430938       5  famous fat free creamy dill dip   \n",
       "\n",
       "                                                tags  \\\n",
       "0  [time-to-make, course, main-ingredient, cuisin...   \n",
       "1  [weeknight, 15-minutes-or-less, time-to-make, ...   \n",
       "\n",
       "                                         description  \\\n",
       "0  [youllneverneedanotherbananabreadrecipeeveraga...   \n",
       "1  [imadeupthisrecipeafterhavingdilldipatafamilyg...   \n",
       "\n",
       "                                         ingredients  \\\n",
       "0  [butter, granulatedsugar, eggs, bananas, all-p...   \n",
       "1  [fatfreecreamcheese, nonfatsourcream, dillweed...   \n",
       "\n",
       "                                                 rec  \n",
       "0  [time-to-make, course, main-ingredient, cuisin...  \n",
       "1  [weeknight, 15-minutes-or-less, time-to-make, ...  "
      ]
     },
     "execution_count": 34,
     "metadata": {},
     "output_type": "execute_result"
    }
   ],
   "source": [
    "rec.head(2)"
   ]
  },
  {
   "cell_type": "code",
   "execution_count": 35,
   "id": "6485be70-82ec-4a42-b24b-881e83be7254",
   "metadata": {},
   "outputs": [],
   "source": [
    "rec[\"rec\"] = rec[\"tags\"] + rec[\"ingredients\"]\n",
    "rec = rec[~rec.duplicated(\"name\")]\n",
    "rec.reset_index(drop=True,inplace=True)"
   ]
  },
  {
   "cell_type": "code",
   "execution_count": 36,
   "id": "7ca145be-b451-4546-8c29-2ff27bf008a7",
   "metadata": {},
   "outputs": [
    {
     "data": {
      "text/html": [
       "<div>\n",
       "<style scoped>\n",
       "    .dataframe tbody tr th:only-of-type {\n",
       "        vertical-align: middle;\n",
       "    }\n",
       "\n",
       "    .dataframe tbody tr th {\n",
       "        vertical-align: top;\n",
       "    }\n",
       "\n",
       "    .dataframe thead th {\n",
       "        text-align: right;\n",
       "    }\n",
       "</style>\n",
       "<table border=\"1\" class=\"dataframe\">\n",
       "  <thead>\n",
       "    <tr style=\"text-align: right;\">\n",
       "      <th></th>\n",
       "      <th>recipe_id</th>\n",
       "      <th>rating</th>\n",
       "      <th>name</th>\n",
       "      <th>tags</th>\n",
       "      <th>description</th>\n",
       "      <th>ingredients</th>\n",
       "      <th>rec</th>\n",
       "    </tr>\n",
       "  </thead>\n",
       "  <tbody>\n",
       "    <tr>\n",
       "      <th>0</th>\n",
       "      <td>2886</td>\n",
       "      <td>5</td>\n",
       "      <td>best banana bread</td>\n",
       "      <td>[time-to-make, course, main-ingredient, cuisin...</td>\n",
       "      <td>[youllneverneedanotherbananabreadrecipeeveraga...</td>\n",
       "      <td>[butter, granulatedsugar, eggs, bananas, all-p...</td>\n",
       "      <td>[time-to-make, course, main-ingredient, cuisin...</td>\n",
       "    </tr>\n",
       "    <tr>\n",
       "      <th>1</th>\n",
       "      <td>430938</td>\n",
       "      <td>5</td>\n",
       "      <td>famous fat free creamy dill dip</td>\n",
       "      <td>[weeknight, 15-minutes-or-less, time-to-make, ...</td>\n",
       "      <td>[imadeupthisrecipeafterhavingdilldipatafamilyg...</td>\n",
       "      <td>[fatfreecreamcheese, nonfatsourcream, dillweed...</td>\n",
       "      <td>[weeknight, 15-minutes-or-less, time-to-make, ...</td>\n",
       "    </tr>\n",
       "  </tbody>\n",
       "</table>\n",
       "</div>"
      ],
      "text/plain": [
       "   recipe_id  rating                             name  \\\n",
       "0       2886       5                best banana bread   \n",
       "1     430938       5  famous fat free creamy dill dip   \n",
       "\n",
       "                                                tags  \\\n",
       "0  [time-to-make, course, main-ingredient, cuisin...   \n",
       "1  [weeknight, 15-minutes-or-less, time-to-make, ...   \n",
       "\n",
       "                                         description  \\\n",
       "0  [youllneverneedanotherbananabreadrecipeeveraga...   \n",
       "1  [imadeupthisrecipeafterhavingdilldipatafamilyg...   \n",
       "\n",
       "                                         ingredients  \\\n",
       "0  [butter, granulatedsugar, eggs, bananas, all-p...   \n",
       "1  [fatfreecreamcheese, nonfatsourcream, dillweed...   \n",
       "\n",
       "                                                 rec  \n",
       "0  [time-to-make, course, main-ingredient, cuisin...  \n",
       "1  [weeknight, 15-minutes-or-less, time-to-make, ...  "
      ]
     },
     "execution_count": 36,
     "metadata": {},
     "output_type": "execute_result"
    }
   ],
   "source": [
    "rec.head(2)"
   ]
  },
  {
   "cell_type": "code",
   "execution_count": 38,
   "id": "31cf34f0-774a-4b24-84a6-f1ab525cee00",
   "metadata": {},
   "outputs": [
    {
     "data": {
      "text/plain": [
       "['time-to-make',\n",
       " 'course',\n",
       " 'main-ingredient',\n",
       " 'cuisine',\n",
       " 'preparation',\n",
       " 'north-american',\n",
       " 'breads',\n",
       " 'fruit',\n",
       " 'american',\n",
       " 'oven',\n",
       " 'dietary',\n",
       " 'quick-breads',\n",
       " 'equipment',\n",
       " '4-hours-or-less',\n",
       " 'butter',\n",
       " 'granulatedsugar',\n",
       " 'eggs',\n",
       " 'bananas',\n",
       " 'all-purposeflour',\n",
       " 'bakingsoda',\n",
       " 'salt',\n",
       " 'vanilla']"
      ]
     },
     "execution_count": 38,
     "metadata": {},
     "output_type": "execute_result"
    }
   ],
   "source": [
    "rec['rec'][0]"
   ]
  },
  {
   "cell_type": "code",
   "execution_count": 39,
   "id": "df8d96c1-15ea-4145-8c57-ce0782d908e5",
   "metadata": {},
   "outputs": [
    {
     "ename": "AttributeError",
     "evalue": "'list' object has no attribute 'lower'",
     "output_type": "error",
     "traceback": [
      "\u001b[1;31m---------------------------------------------------------------------------\u001b[0m",
      "\u001b[1;31mAttributeError\u001b[0m                            Traceback (most recent call last)",
      "\u001b[1;32m<ipython-input-39-4ddacc59b728>\u001b[0m in \u001b[0;36m<module>\u001b[1;34m\u001b[0m\n\u001b[0;32m      1\u001b[0m \u001b[0mcv\u001b[0m \u001b[1;33m=\u001b[0m \u001b[0mTfidfVectorizer\u001b[0m\u001b[1;33m(\u001b[0m\u001b[1;33m)\u001b[0m\u001b[1;33m\u001b[0m\u001b[1;33m\u001b[0m\u001b[0m\n\u001b[1;32m----> 2\u001b[1;33m \u001b[0mrec_tfidf\u001b[0m \u001b[1;33m=\u001b[0m \u001b[0mcv\u001b[0m\u001b[1;33m.\u001b[0m\u001b[0mfit_transform\u001b[0m\u001b[1;33m(\u001b[0m\u001b[0mrec\u001b[0m\u001b[1;33m[\u001b[0m\u001b[1;34m\"rec\"\u001b[0m\u001b[1;33m]\u001b[0m\u001b[1;33m)\u001b[0m\u001b[1;33m\u001b[0m\u001b[1;33m\u001b[0m\u001b[0m\n\u001b[0m\u001b[0;32m      3\u001b[0m \u001b[0mname_tfidf\u001b[0m \u001b[1;33m=\u001b[0m \u001b[0mcv\u001b[0m\u001b[1;33m.\u001b[0m\u001b[0mfit_transform\u001b[0m\u001b[1;33m(\u001b[0m\u001b[0mrec\u001b[0m\u001b[1;33m[\u001b[0m\u001b[1;34m\"name\"\u001b[0m\u001b[1;33m]\u001b[0m\u001b[1;33m)\u001b[0m\u001b[1;33m\u001b[0m\u001b[1;33m\u001b[0m\u001b[0m\n\u001b[0;32m      4\u001b[0m \u001b[0mrec_consin_sim\u001b[0m \u001b[1;33m=\u001b[0m \u001b[0mlinear_kernel\u001b[0m\u001b[1;33m(\u001b[0m\u001b[0mrec_tfidf\u001b[0m\u001b[1;33m,\u001b[0m\u001b[0mrec_tfidf\u001b[0m\u001b[1;33m)\u001b[0m\u001b[1;33m\u001b[0m\u001b[1;33m\u001b[0m\u001b[0m\n\u001b[0;32m      5\u001b[0m \u001b[0mname_consin_sim\u001b[0m \u001b[1;33m=\u001b[0m \u001b[0mlinear_kernel\u001b[0m\u001b[1;33m(\u001b[0m\u001b[0mname_tfidf\u001b[0m\u001b[1;33m,\u001b[0m\u001b[0mname_tfidf\u001b[0m\u001b[1;33m)\u001b[0m\u001b[1;33m\u001b[0m\u001b[1;33m\u001b[0m\u001b[0m\n",
      "\u001b[1;32mD:\\Miniconda\\lib\\site-packages\\sklearn\\feature_extraction\\text.py\u001b[0m in \u001b[0;36mfit_transform\u001b[1;34m(self, raw_documents, y)\u001b[0m\n\u001b[0;32m   1839\u001b[0m         \"\"\"\n\u001b[0;32m   1840\u001b[0m         \u001b[0mself\u001b[0m\u001b[1;33m.\u001b[0m\u001b[0m_check_params\u001b[0m\u001b[1;33m(\u001b[0m\u001b[1;33m)\u001b[0m\u001b[1;33m\u001b[0m\u001b[1;33m\u001b[0m\u001b[0m\n\u001b[1;32m-> 1841\u001b[1;33m         \u001b[0mX\u001b[0m \u001b[1;33m=\u001b[0m \u001b[0msuper\u001b[0m\u001b[1;33m(\u001b[0m\u001b[1;33m)\u001b[0m\u001b[1;33m.\u001b[0m\u001b[0mfit_transform\u001b[0m\u001b[1;33m(\u001b[0m\u001b[0mraw_documents\u001b[0m\u001b[1;33m)\u001b[0m\u001b[1;33m\u001b[0m\u001b[1;33m\u001b[0m\u001b[0m\n\u001b[0m\u001b[0;32m   1842\u001b[0m         \u001b[0mself\u001b[0m\u001b[1;33m.\u001b[0m\u001b[0m_tfidf\u001b[0m\u001b[1;33m.\u001b[0m\u001b[0mfit\u001b[0m\u001b[1;33m(\u001b[0m\u001b[0mX\u001b[0m\u001b[1;33m)\u001b[0m\u001b[1;33m\u001b[0m\u001b[1;33m\u001b[0m\u001b[0m\n\u001b[0;32m   1843\u001b[0m         \u001b[1;31m# X is already a transformed view of raw_documents so\u001b[0m\u001b[1;33m\u001b[0m\u001b[1;33m\u001b[0m\u001b[1;33m\u001b[0m\u001b[0m\n",
      "\u001b[1;32mD:\\Miniconda\\lib\\site-packages\\sklearn\\feature_extraction\\text.py\u001b[0m in \u001b[0;36mfit_transform\u001b[1;34m(self, raw_documents, y)\u001b[0m\n\u001b[0;32m   1196\u001b[0m         \u001b[0mmax_features\u001b[0m \u001b[1;33m=\u001b[0m \u001b[0mself\u001b[0m\u001b[1;33m.\u001b[0m\u001b[0mmax_features\u001b[0m\u001b[1;33m\u001b[0m\u001b[1;33m\u001b[0m\u001b[0m\n\u001b[0;32m   1197\u001b[0m \u001b[1;33m\u001b[0m\u001b[0m\n\u001b[1;32m-> 1198\u001b[1;33m         vocabulary, X = self._count_vocab(raw_documents,\n\u001b[0m\u001b[0;32m   1199\u001b[0m                                           self.fixed_vocabulary_)\n\u001b[0;32m   1200\u001b[0m \u001b[1;33m\u001b[0m\u001b[0m\n",
      "\u001b[1;32mD:\\Miniconda\\lib\\site-packages\\sklearn\\feature_extraction\\text.py\u001b[0m in \u001b[0;36m_count_vocab\u001b[1;34m(self, raw_documents, fixed_vocab)\u001b[0m\n\u001b[0;32m   1108\u001b[0m         \u001b[1;32mfor\u001b[0m \u001b[0mdoc\u001b[0m \u001b[1;32min\u001b[0m \u001b[0mraw_documents\u001b[0m\u001b[1;33m:\u001b[0m\u001b[1;33m\u001b[0m\u001b[1;33m\u001b[0m\u001b[0m\n\u001b[0;32m   1109\u001b[0m             \u001b[0mfeature_counter\u001b[0m \u001b[1;33m=\u001b[0m \u001b[1;33m{\u001b[0m\u001b[1;33m}\u001b[0m\u001b[1;33m\u001b[0m\u001b[1;33m\u001b[0m\u001b[0m\n\u001b[1;32m-> 1110\u001b[1;33m             \u001b[1;32mfor\u001b[0m \u001b[0mfeature\u001b[0m \u001b[1;32min\u001b[0m \u001b[0manalyze\u001b[0m\u001b[1;33m(\u001b[0m\u001b[0mdoc\u001b[0m\u001b[1;33m)\u001b[0m\u001b[1;33m:\u001b[0m\u001b[1;33m\u001b[0m\u001b[1;33m\u001b[0m\u001b[0m\n\u001b[0m\u001b[0;32m   1111\u001b[0m                 \u001b[1;32mtry\u001b[0m\u001b[1;33m:\u001b[0m\u001b[1;33m\u001b[0m\u001b[1;33m\u001b[0m\u001b[0m\n\u001b[0;32m   1112\u001b[0m                     \u001b[0mfeature_idx\u001b[0m \u001b[1;33m=\u001b[0m \u001b[0mvocabulary\u001b[0m\u001b[1;33m[\u001b[0m\u001b[0mfeature\u001b[0m\u001b[1;33m]\u001b[0m\u001b[1;33m\u001b[0m\u001b[1;33m\u001b[0m\u001b[0m\n",
      "\u001b[1;32mD:\\Miniconda\\lib\\site-packages\\sklearn\\feature_extraction\\text.py\u001b[0m in \u001b[0;36m_analyze\u001b[1;34m(doc, analyzer, tokenizer, ngrams, preprocessor, decoder, stop_words)\u001b[0m\n\u001b[0;32m    102\u001b[0m     \u001b[1;32melse\u001b[0m\u001b[1;33m:\u001b[0m\u001b[1;33m\u001b[0m\u001b[1;33m\u001b[0m\u001b[0m\n\u001b[0;32m    103\u001b[0m         \u001b[1;32mif\u001b[0m \u001b[0mpreprocessor\u001b[0m \u001b[1;32mis\u001b[0m \u001b[1;32mnot\u001b[0m \u001b[1;32mNone\u001b[0m\u001b[1;33m:\u001b[0m\u001b[1;33m\u001b[0m\u001b[1;33m\u001b[0m\u001b[0m\n\u001b[1;32m--> 104\u001b[1;33m             \u001b[0mdoc\u001b[0m \u001b[1;33m=\u001b[0m \u001b[0mpreprocessor\u001b[0m\u001b[1;33m(\u001b[0m\u001b[0mdoc\u001b[0m\u001b[1;33m)\u001b[0m\u001b[1;33m\u001b[0m\u001b[1;33m\u001b[0m\u001b[0m\n\u001b[0m\u001b[0;32m    105\u001b[0m         \u001b[1;32mif\u001b[0m \u001b[0mtokenizer\u001b[0m \u001b[1;32mis\u001b[0m \u001b[1;32mnot\u001b[0m \u001b[1;32mNone\u001b[0m\u001b[1;33m:\u001b[0m\u001b[1;33m\u001b[0m\u001b[1;33m\u001b[0m\u001b[0m\n\u001b[0;32m    106\u001b[0m             \u001b[0mdoc\u001b[0m \u001b[1;33m=\u001b[0m \u001b[0mtokenizer\u001b[0m\u001b[1;33m(\u001b[0m\u001b[0mdoc\u001b[0m\u001b[1;33m)\u001b[0m\u001b[1;33m\u001b[0m\u001b[1;33m\u001b[0m\u001b[0m\n",
      "\u001b[1;32mD:\\Miniconda\\lib\\site-packages\\sklearn\\feature_extraction\\text.py\u001b[0m in \u001b[0;36m_preprocess\u001b[1;34m(doc, accent_function, lower)\u001b[0m\n\u001b[0;32m     67\u001b[0m     \"\"\"\n\u001b[0;32m     68\u001b[0m     \u001b[1;32mif\u001b[0m \u001b[0mlower\u001b[0m\u001b[1;33m:\u001b[0m\u001b[1;33m\u001b[0m\u001b[1;33m\u001b[0m\u001b[0m\n\u001b[1;32m---> 69\u001b[1;33m         \u001b[0mdoc\u001b[0m \u001b[1;33m=\u001b[0m \u001b[0mdoc\u001b[0m\u001b[1;33m.\u001b[0m\u001b[0mlower\u001b[0m\u001b[1;33m(\u001b[0m\u001b[1;33m)\u001b[0m\u001b[1;33m\u001b[0m\u001b[1;33m\u001b[0m\u001b[0m\n\u001b[0m\u001b[0;32m     70\u001b[0m     \u001b[1;32mif\u001b[0m \u001b[0maccent_function\u001b[0m \u001b[1;32mis\u001b[0m \u001b[1;32mnot\u001b[0m \u001b[1;32mNone\u001b[0m\u001b[1;33m:\u001b[0m\u001b[1;33m\u001b[0m\u001b[1;33m\u001b[0m\u001b[0m\n\u001b[0;32m     71\u001b[0m         \u001b[0mdoc\u001b[0m \u001b[1;33m=\u001b[0m \u001b[0maccent_function\u001b[0m\u001b[1;33m(\u001b[0m\u001b[0mdoc\u001b[0m\u001b[1;33m)\u001b[0m\u001b[1;33m\u001b[0m\u001b[1;33m\u001b[0m\u001b[0m\n",
      "\u001b[1;31mAttributeError\u001b[0m: 'list' object has no attribute 'lower'"
     ]
    }
   ],
   "source": [
    "cv = TfidfVectorizer()\n",
    "rec_tfidf = cv.fit_transform(rec[\"rec\"])\n",
    "name_tfidf = cv.fit_transform(rec[\"name\"])\n",
    "rec_consin_sim = linear_kernel(rec_tfidf,rec_tfidf)\n",
    "name_consin_sim = linear_kernel(name_tfidf,name_tfidf)"
   ]
  },
  {
   "cell_type": "code",
   "execution_count": null,
   "id": "0361e981-d067-4f17-a27a-1a202f4cd9d1",
   "metadata": {},
   "outputs": [],
   "source": []
  }
 ],
 "metadata": {
  "kernelspec": {
   "display_name": "Python 3",
   "language": "python",
   "name": "python3"
  },
  "language_info": {
   "codemirror_mode": {
    "name": "ipython",
    "version": 3
   },
   "file_extension": ".py",
   "mimetype": "text/x-python",
   "name": "python",
   "nbconvert_exporter": "python",
   "pygments_lexer": "ipython3",
   "version": "3.8.3"
  }
 },
 "nbformat": 4,
 "nbformat_minor": 5
}
